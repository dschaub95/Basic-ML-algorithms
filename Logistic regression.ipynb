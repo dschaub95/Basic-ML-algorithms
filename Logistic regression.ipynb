{
 "cells": [
  {
   "cell_type": "code",
   "execution_count": 1,
   "metadata": {},
   "outputs": [
    {
     "name": "stdout",
     "output_type": "stream",
     "text": [
      "[['1.3', '-0.54', '1'], ['-2.3', '-2.5', '1'], ['-0.37', '-0.047', '1'], ['0.49', '0.79', '1'], ['1', '0.95', '1'], ['-1.9', '-1.7', '1'], ['0.61', '-0.3', '1'], ['1.4', '1.4', '1'], ['-0.53', '0.43', '1'], ['-1.1', '0.14', '1'], ['0.64', '-0.52', '1'], ['-0.76', '0.11', '1'], ['1.3', '2.4', '1'], ['0.93', '0.52', '1'], ['0.095', '-0.11', '1'], ['0.44', '-0.74', '1'], ['-0.26', '-2.3', '1'], ['2.8', '1.1', '1'], ['1.3', '0.49', '1'], ['0.1', '1.7', '1'], ['0.57', '-1.5', '1'], ['-1.5', '0.05', '1'], ['-0.32', '-0.049', '1'], ['0.19', '-0.58', '1'], ['-1', '-0.26', '1'], ['-0.35', '2', '1'], ['-0.4', '0.31', '1'], ['-1.7', '-0.17', '1'], ['1', '0.35', '1'], ['-0.56', '-0.82', '1'], ['-0.054', '-1', '1'], ['0.35', '-0.31', '1'], ['1', '0.96', '1'], ['0.44', '-1.6', '1'], ['0.26', '2.2', '1'], ['-0.36', '-0.23', '1'], ['-0.86', '0.05', '1'], ['-0.27', '1.5', '1'], ['-0.27', '0.22', '1'], ['0.75', '-0.14', '1'], ['1.6', '0.76', '1'], ['0.76', '-1.1', '1'], ['0.33', '-0.95', '1'], ['-1.4', '-0.96', '1'], ['-0.11', '-0.56', '1'], ['0.37', '-1.2', '1'], ['0.076', '0.69', '1'], ['-1.4', '0.85', '1'], ['-0.1', '0.27', '1'], ['-0.32', '0.38', '1'], ['-0.68', '-4.6', '0'], ['-0.6', '-4.8', '0'], ['-0.49', '-3.9', '0'], ['-0.21', '-5.4', '0'], ['0.057', '-5.4', '0'], ['-1.1', '-5.1', '0'], ['-1.8', '-4.4', '0'], ['-0.67', '-5.7', '0'], ['0.29', '-4.7', '0'], ['-0.41', '-4.2', '0'], ['1.8', '-4.5', '0'], ['0.93', '-4.5', '0'], ['0.74', '-5.4', '0'], ['-1.2', '-4.8', '0'], ['0.84', '-5.8', '0'], ['0.21', '-3.8', '0'], ['0.5', '-5.3', '0'], ['-0.21', '-5.9', '0'], ['-0.11', '-4.4', '0'], ['0.16', '-2.9', '0'], ['-0.52', '-3.8', '0'], ['0.42', '-6.2', '0'], ['1.1', '-4', '0'], ['-0.5', '-5.1', '0'], ['0.45', '-4.6', '0'], ['-0.24', '-4.6', '0'], ['-1', '-4.3', '0'], ['0.95', '-5.5', '0'], ['-2.2', '-5.6', '0'], ['-1.3', '-4.4', '0'], ['-1.6', '-4.8', '0'], ['2.1', '-5.6', '0'], ['0.86', '-5.5', '0'], ['0.16', '-5', '0'], ['-1.2', '-4.9', '0'], ['-0.082', '-5.9', '0'], ['0.078', '-6.2', '0'], ['1.1', '-4.9', '0'], ['-1.2', '-3.6', '0'], ['-0.2', '-4.8', '0'], ['-2.2', '-4.5', '0'], ['-0.75', '-4.2', '0'], ['-1.6', '-5.3', '0'], ['1.6', '-4.8', '0'], ['0.34', '-4.6', '0'], ['1.2', '-4.3', '0'], ['1.3', '-6.4', '0'], ['-0.96', '-3.9', '0'], ['1.7', '-2.8', '0'], ['-0.77', '-4.5', '0']]\n",
      "[[ 1.3   -0.54   1.   ]\n",
      " [-2.3   -2.5    1.   ]\n",
      " [-0.37  -0.047  1.   ]\n",
      " [ 0.49   0.79   1.   ]\n",
      " [ 1.     0.95   1.   ]\n",
      " [-1.9   -1.7    1.   ]\n",
      " [ 0.61  -0.3    1.   ]\n",
      " [ 1.4    1.4    1.   ]\n",
      " [-0.53   0.43   1.   ]\n",
      " [-1.1    0.14   1.   ]\n",
      " [ 0.64  -0.52   1.   ]\n",
      " [-0.76   0.11   1.   ]\n",
      " [ 1.3    2.4    1.   ]\n",
      " [ 0.93   0.52   1.   ]\n",
      " [ 0.095 -0.11   1.   ]\n",
      " [ 0.44  -0.74   1.   ]\n",
      " [-0.26  -2.3    1.   ]\n",
      " [ 2.8    1.1    1.   ]\n",
      " [ 1.3    0.49   1.   ]\n",
      " [ 0.1    1.7    1.   ]\n",
      " [ 0.57  -1.5    1.   ]\n",
      " [-1.5    0.05   1.   ]\n",
      " [-0.32  -0.049  1.   ]\n",
      " [ 0.19  -0.58   1.   ]\n",
      " [-1.    -0.26   1.   ]\n",
      " [-0.35   2.     1.   ]\n",
      " [-0.4    0.31   1.   ]\n",
      " [-1.7   -0.17   1.   ]\n",
      " [ 1.     0.35   1.   ]\n",
      " [-0.56  -0.82   1.   ]\n",
      " [-0.054 -1.     1.   ]\n",
      " [ 0.35  -0.31   1.   ]\n",
      " [ 1.     0.96   1.   ]\n",
      " [ 0.44  -1.6    1.   ]\n",
      " [ 0.26   2.2    1.   ]\n",
      " [-0.36  -0.23   1.   ]\n",
      " [-0.86   0.05   1.   ]\n",
      " [-0.27   1.5    1.   ]\n",
      " [-0.27   0.22   1.   ]\n",
      " [ 0.75  -0.14   1.   ]\n",
      " [ 1.6    0.76   1.   ]\n",
      " [ 0.76  -1.1    1.   ]\n",
      " [ 0.33  -0.95   1.   ]\n",
      " [-1.4   -0.96   1.   ]\n",
      " [-0.11  -0.56   1.   ]\n",
      " [ 0.37  -1.2    1.   ]\n",
      " [ 0.076  0.69   1.   ]\n",
      " [-1.4    0.85   1.   ]\n",
      " [-0.1    0.27   1.   ]\n",
      " [-0.32   0.38   1.   ]\n",
      " [-0.68  -4.6    0.   ]\n",
      " [-0.6   -4.8    0.   ]\n",
      " [-0.49  -3.9    0.   ]\n",
      " [-0.21  -5.4    0.   ]\n",
      " [ 0.057 -5.4    0.   ]\n",
      " [-1.1   -5.1    0.   ]\n",
      " [-1.8   -4.4    0.   ]\n",
      " [-0.67  -5.7    0.   ]\n",
      " [ 0.29  -4.7    0.   ]\n",
      " [-0.41  -4.2    0.   ]\n",
      " [ 1.8   -4.5    0.   ]\n",
      " [ 0.93  -4.5    0.   ]\n",
      " [ 0.74  -5.4    0.   ]\n",
      " [-1.2   -4.8    0.   ]\n",
      " [ 0.84  -5.8    0.   ]\n",
      " [ 0.21  -3.8    0.   ]\n",
      " [ 0.5   -5.3    0.   ]\n",
      " [-0.21  -5.9    0.   ]\n",
      " [-0.11  -4.4    0.   ]\n",
      " [ 0.16  -2.9    0.   ]\n",
      " [-0.52  -3.8    0.   ]\n",
      " [ 0.42  -6.2    0.   ]\n",
      " [ 1.1   -4.     0.   ]\n",
      " [-0.5   -5.1    0.   ]\n",
      " [ 0.45  -4.6    0.   ]\n",
      " [-0.24  -4.6    0.   ]\n",
      " [-1.    -4.3    0.   ]\n",
      " [ 0.95  -5.5    0.   ]\n",
      " [-2.2   -5.6    0.   ]\n",
      " [-1.3   -4.4    0.   ]\n",
      " [-1.6   -4.8    0.   ]\n",
      " [ 2.1   -5.6    0.   ]\n",
      " [ 0.86  -5.5    0.   ]\n",
      " [ 0.16  -5.     0.   ]\n",
      " [-1.2   -4.9    0.   ]\n",
      " [-0.082 -5.9    0.   ]\n",
      " [ 0.078 -6.2    0.   ]\n",
      " [ 1.1   -4.9    0.   ]\n",
      " [-1.2   -3.6    0.   ]\n",
      " [-0.2   -4.8    0.   ]\n",
      " [-2.2   -4.5    0.   ]\n",
      " [-0.75  -4.2    0.   ]\n",
      " [-1.6   -5.3    0.   ]\n",
      " [ 1.6   -4.8    0.   ]\n",
      " [ 0.34  -4.6    0.   ]\n",
      " [ 1.2   -4.3    0.   ]\n",
      " [ 1.3   -6.4    0.   ]\n",
      " [-0.96  -3.9    0.   ]\n",
      " [ 1.7   -2.8    0.   ]\n",
      " [-0.77  -4.5    0.   ]]\n",
      "[-2.3 -2.5]\n"
     ]
    }
   ],
   "source": [
    "import numpy as np\n",
    "\n",
    "data = []\n",
    "for line in open(\"data.txt\").readlines():\n",
    "    data.append(line.split())\n",
    "data_ = []\n",
    "for element in data:\n",
    "    tmp = []\n",
    "    for number in element:\n",
    "        tmp.append(float(number))\n",
    "    data_.append(tmp)\n",
    "data = np.array(data_)\n",
    "print(data)\n",
    "print(data[1][0:2])"
   ]
  },
  {
   "cell_type": "code",
   "execution_count": 44,
   "metadata": {},
   "outputs": [
    {
     "data": {
      "text/plain": [
       "[<matplotlib.lines.Line2D at 0x7f093523c6d0>]"
      ]
     },
     "execution_count": 44,
     "metadata": {},
     "output_type": "execute_result"
    },
    {
     "data": {
      "image/png": "[encoded data removed]",
      "text/plain": [
       "<Figure size 432x288 with 1 Axes>"
      ]
     },
     "metadata": {
      "needs_background": "light"
     },
     "output_type": "display_data"
    }
   ],
   "source": [
    "import matplotlib.pyplot as plt\n",
    "\n",
    "plt.plot(data[0:50,0],data[0:50,1], 'o')\n",
    "plt.plot(data[50:100,0],data[50:100,1], 'o')\n"
   ]
  },
  {
   "cell_type": "code",
   "execution_count": 43,
   "metadata": {},
   "outputs": [],
   "source": [
    "def sigmoid_model(theta, x):\n",
    "    return 1/(1+np.exp(-(theta[0]+theta[1]*x[0]+theta[2]*x[1])))"
   ]
  },
  {
   "cell_type": "code",
   "execution_count": 45,
   "metadata": {},
   "outputs": [
    {
     "data": {
      "text/plain": [
       "[<matplotlib.lines.Line2D at 0x7f09351a0810>]"
      ]
     },
     "execution_count": 45,
     "metadata": {},
     "output_type": "execute_result"
    },
    {
     "data": {
      "image/png": "[encoded data removed]",
      "text/plain": [
       "<Figure size 432x288 with 1 Axes>"
      ]
     },
     "metadata": {
      "needs_background": "light"
     },
     "output_type": "display_data"
    }
   ],
   "source": [
    "theta = (np.random.rand(1,3)[0]-0.5)/50\n",
    "\n",
    "\n",
    "plt.plot(data[0:50,0],data[0:50,1], 'o')\n",
    "plt.plot(data[50:100,0],data[50:100,1], 'o')\n",
    "plt.plot(data[0:100,0], (theta[0]+theta[1]*data[0:100,0])*(-1/theta[2]))"
   ]
  },
  {
   "cell_type": "code",
   "execution_count": 169,
   "metadata": {
    "scrolled": false
   },
   "outputs": [
    {
     "name": "stdout",
     "output_type": "stream",
     "text": [
      "[0.0013571298213814992, 9.0]\n",
      "[0.0013545356239588583, 9.01]\n",
      "[0.0013529776806795392, 9.02]\n",
      "[0.0013517201982649238, 9.03]\n",
      "[0.0013504267992318533, 9.04]\n",
      "[0.0013489021564955187, 9.049999999999999]\n",
      "[0.0013478872807021986, 9.059999999999999]\n",
      "[0.0013459964438324085, 9.069999999999999]\n",
      "[0.0013440389598113832, 9.079999999999998]\n",
      "[0.0013415130920249707, 9.089999999999998]\n",
      "[0.0013386169844437485, 9.099999999999998]\n",
      "[0.0013340689713876308, 9.109999999999998]\n",
      "[0.001331516345086548, 9.119999999999997]\n",
      "[0.001333129811605623, 9.129999999999997]\n",
      "[0.0013345707171759059, 9.139999999999997]\n",
      "[0.0013482608972783623, 9.149999999999997]\n",
      "[0.001347627020202649, 9.159999999999997]\n",
      "[0.001375241567261031, 9.169999999999996]\n",
      "[0.3205669830141008, 9.179999999999996]\n",
      "[0.32022134267103314, 9.189999999999996]\n",
      "[0.31987622327047893, 9.199999999999996]\n",
      "[0.3195316621132386, 9.209999999999996]\n",
      "[0.3191876951072663, 9.219999999999995]\n",
      "[0.31884435678389883, 9.229999999999995]\n",
      "[0.31850168032544973, 9.239999999999995]\n",
      "[0.3181596975755795, 9.249999999999995]\n",
      "[0.31781843910177543, 9.259999999999994]\n",
      "[0.3174779341992689, 9.269999999999994]\n",
      "[0.31713821094290384, 9.279999999999994]\n",
      "[0.31679929620150665, 9.289999999999994]\n",
      "[0.3164612157026119, 9.299999999999994]\n",
      "[0.3161239940052231, 9.309999999999993]\n",
      "[0.3157876545891127, 9.319999999999993]\n",
      "[0.3154522198461787, 9.329999999999993]\n",
      "[0.3151177106891722, 9.339999999999993]\n",
      "[0.314784146970632, 9.349999999999993]\n",
      "[0.31445154650204976, 9.359999999999992]\n",
      "[0.31411991680274115, 9.369999999999992]\n",
      "[0.31378925623711135, 9.379999999999992]\n",
      "[0.3134596007793213, 9.389999999999992]\n",
      "[0.313130717271154, 9.399999999999991]\n"
     ]
    }
   ],
   "source": [
    "theta = (np.random.rand(1,3)[0]-0.5)/50\n",
    "alpha_ = np.arange(9,9.4,0.01)\n",
    "\n",
    "for alpha in alpha_:\n",
    "    theta = (np.random.rand(1,3)[0]-0.5)/50\n",
    "    err_list = []\n",
    "    for k in range(0, 100):\n",
    "        for i in range(0, data.shape[0]):\n",
    "            tmp = [1]\n",
    "            tmp.extend(data[i][0:2])\n",
    "            for j in range(0,theta.shape[0]):\n",
    "                theta[j] += alpha*(data[i][2]-sigmoid_model(theta, data[i][0:2]))*tmp[j]\n",
    "        err_list.append(np.sqrt(np.sum((1/data.shape[0])*np.square(data[:,2]-sigmoid_model(theta, [data[:,0], data[:,1]])))))\n",
    "    print([err_list[99],alpha])"
   ]
  },
  {
   "cell_type": "code",
   "execution_count": 175,
   "metadata": {},
   "outputs": [],
   "source": [
    "theta = (np.random.rand(1,3)[0]-0.5)/50\n",
    "err_list = []\n",
    "alpha = 9.1\n",
    "for k in range(0, 100):\n",
    "    for i in range(0, data.shape[0]):\n",
    "        tmp = [1]\n",
    "        tmp.extend(data[i][0:2])\n",
    "        for j in range(0,theta.shape[0]):\n",
    "            theta[j] += alpha*(data[i][2]-sigmoid_model(theta, data[i][0:2]))*tmp[j]\n",
    "    err_list.append(np.sqrt(np.sum((1/data.shape[0])*np.square(data[:,2]-sigmoid_model(theta, [data[:,0], data[:,1]])))))"
   ]
  },
  {
   "cell_type": "code",
   "execution_count": 191,
   "metadata": {},
   "outputs": [
    {
     "name": "stdout",
     "output_type": "stream",
     "text": [
      "0.001337332878739896\n"
     ]
    },
    {
     "data": {
      "image/png": "[encoded data removed]",
      "text/plain": [
       "<Figure size 432x288 with 1 Axes>"
      ]
     },
     "metadata": {
      "needs_background": "light"
     },
     "output_type": "display_data"
    }
   ],
   "source": [
    "plt.plot(err_list)\n",
    "plt.xlabel('Iterations')\n",
    "plt.ylabel('Root Mean Square Error')\n",
    "print(err_list[99])\n",
    "plt.savefig('Error_2', format='pdf')"
   ]
  },
  {
   "cell_type": "code",
   "execution_count": 192,
   "metadata": {},
   "outputs": [
    {
     "data": {
      "image/png": "[encoded data removed]",
      "text/plain": [
       "<Figure size 432x288 with 1 Axes>"
      ]
     },
     "metadata": {
      "needs_background": "light"
     },
     "output_type": "display_data"
    }
   ],
   "source": [
    "plt.plot(data[0:50,0],data[0:50,1], 'o', label='Class 1')\n",
    "plt.plot(data[50:100,0],data[50:100,1], 'o', label='Class 2')\n",
    "plt.plot(data[0:100,0], (theta[0]+theta[1]*data[0:100,0])*(-1/theta[2]), 'black',linewidth=0.4, label='Solution')\n",
    "plt.ylim(-8,4)\n",
    "plt.xlim(-3,3)\n",
    "\n",
    "plt.legend()\n",
    "plt.savefig('Solution', format='pdf')"
   ]
  }
 ],
 "metadata": {
  "kernelspec": {
   "display_name": "Python 3",
   "language": "python",
   "name": "python3"
  },
  "language_info": {
   "codemirror_mode": {
    "name": "ipython",
    "version": 3
   },
   "file_extension": ".py",
   "mimetype": "text/x-python",
   "name": "python",
   "nbconvert_exporter": "python",
   "pygments_lexer": "ipython3",
   "version": "3.7.4"
  }
 },
 "nbformat": 4,
 "nbformat_minor": 2
}
