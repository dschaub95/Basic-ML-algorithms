{
 "cells": [
  {
   "cell_type": "code",
   "execution_count": null,
   "metadata": {
    "colab": {
     "base_uri": "https://localhost:8080/",
     "height": 128
    },
    "colab_type": "code",
    "id": "Sg5FQ1ZMmfDt",
    "outputId": "c87af66d-eb5a-4de9-933c-f42101e19f78"
   },
   "outputs": [
    {
     "name": "stdout",
     "output_type": "stream",
     "text": [
      "Go to this URL in a browser: https://accounts.google.com/o/oauth2/auth?client_id=947318989803-6bn6qk8qdgf4n4g3pfee6491hc0brc4i.apps.googleusercontent.com&redirect_uri=urn%3aietf%3awg%3aoauth%3a2.0%3aoob&response_type=code&scope=email%20https%3a%2f%2fwww.googleapis.com%2fauth%2fdocs.test%20https%3a%2f%2fwww.googleapis.com%2fauth%2fdrive%20https%3a%2f%2fwww.googleapis.com%2fauth%2fdrive.photos.readonly%20https%3a%2f%2fwww.googleapis.com%2fauth%2fpeopleapi.readonly\n",
      "\n",
      "Enter your authorization code:\n",
      "··········\n",
      "Mounted at /content/drive\n"
     ]
    }
   ],
   "source": [
    "from google.colab import drive\n",
    "drive.mount('/content/drive')"
   ]
  },
  {
   "cell_type": "code",
   "execution_count": 1,
   "metadata": {
    "colab": {},
    "colab_type": "code",
    "id": "6fzsOKy0mXi0"
   },
   "outputs": [],
   "source": [
    "import numpy as np\n",
    "\n",
    "data = []\n",
    "for line in open(\"dataCircle.txt\").readlines():\n",
    "    data.append(line.split())\n",
    "data_ = []\n",
    "for element in data:\n",
    "    tmp = []\n",
    "    for number in element:\n",
    "        tmp.append(float(number))\n",
    "    data_.append(tmp)\n",
    "data = np.array(data_)\n"
   ]
  },
  {
   "cell_type": "code",
   "execution_count": 2,
   "metadata": {
    "colab": {},
    "colab_type": "code",
    "id": "XEWFmqwAnFri"
   },
   "outputs": [],
   "source": [
    "features = data[:,0:2]\n",
    "labels = data[:,2]"
   ]
  },
  {
   "cell_type": "code",
   "execution_count": 4,
   "metadata": {
    "colab": {
     "base_uri": "https://localhost:8080/",
     "height": 286
    },
    "colab_type": "code",
    "id": "vPSsHZLtmXi7",
    "outputId": "16ed5b37-86ce-4278-f361-896616611d29"
   },
   "outputs": [
    {
     "data": {
      "text/plain": [
       "[<matplotlib.lines.Line2D at 0x7f37cf45c090>]"
      ]
     },
     "execution_count": 4,
     "metadata": {},
     "output_type": "execute_result"
    },
    {
     "data": {
      "image/png": "[encoded data removed]",
      "text/plain": [
       "<Figure size 432x288 with 1 Axes>"
      ]
     },
     "metadata": {
      "needs_background": "light"
     },
     "output_type": "display_data"
    }
   ],
   "source": [
    "import matplotlib.pyplot as plt\n",
    "\n",
    "plt.plot(features[0:40,0],features[0:40,1], 'o')\n",
    "plt.plot(features[40:80,0],features[40:80,1], 'o')"
   ]
  },
  {
   "cell_type": "code",
   "execution_count": 28,
   "metadata": {
    "colab": {},
    "colab_type": "code",
    "id": "oGEqGt81mXjA"
   },
   "outputs": [],
   "source": [
    "\n",
    "class WeakLearner():\n",
    "    \n",
    "    def __init__(self, weights, coordinate=0, direction='vertical'):\n",
    "        self.dir = direction\n",
    "        self.coord = coordinate\n",
    "        self.par = 1\n",
    "        self.weights = weights\n",
    "\n",
    "    def evaluate(self, x):\n",
    "        if self.dir == 'vertical':\n",
    "            if x[0]*self.par <= self.par*self.coord:\n",
    "                return 1\n",
    "            else:\n",
    "                return -1\n",
    "        elif self.dir == 'horizontal':\n",
    "            if x[1]*self.par <= self.par*self.coord:\n",
    "                return 1\n",
    "            else:\n",
    "                return -1\n",
    "        else:\n",
    "            print('Bad direction')\n",
    "            return 0\n",
    "    def update_weights(self, weights):\n",
    "        self.weights = weights\n",
    "    \n",
    "    def get_error(self, X, y):\n",
    "        error_tmp = 0\n",
    "        \n",
    "        for i in range(X.shape[0]):\n",
    "            if self.evaluate(X[i]) != y[i]:\n",
    "                error_tmp += self.weights[i]\n",
    "        return error_tmp\n",
    "\n",
    "    def train(self, X, y, interval=0.1, start=-10, stop=10):\n",
    "        #check if direction correct\n",
    "        if self.evaluate(X[0]) == 0:\n",
    "            return -1\n",
    "        #define error_list\n",
    "        error_list = []\n",
    "        grid = np.arange(start, stop, interval)\n",
    "        \n",
    "        for i in range(0,grid.shape[0]):\n",
    "            self.coord = grid[i]\n",
    "            error_tmp = self.get_error(X, y)\n",
    "            if error_tmp > 0.5:\n",
    "                error_list.append(1-error_tmp)\n",
    "            else:\n",
    "                error_list.append(error_tmp)\n",
    "        min_error_index = error_list.index(min(error_list))\n",
    "        self.coord = grid[min_error_index]\n",
    "        \n",
    "        error = self.get_error(X, y)\n",
    "        #print(self.coord)\n",
    "        if error > 0.5:\n",
    "            self.par *= -1\n",
    "            return 1-error\n",
    "        else:\n",
    "            return error\n",
    "    \n",
    "    def draw(self, index):\n",
    "        if self.dir == 'vertical':\n",
    "            plt.plot(np.ones((100))*self.coord, np.arange(-10,10,0.2), label=str(index))\n",
    "        else:\n",
    "            plt.plot(np.arange(-10,10,0.2), np.ones((100))*self.coord, label=str(index))\n",
    "        \n",
    "    def print_coord(self):\n",
    "        print(np.round(self.coord,2))"
   ]
  },
  {
   "cell_type": "code",
   "execution_count": 7,
   "metadata": {
    "colab": {},
    "colab_type": "code",
    "id": "KcbzggxMvtAH"
   },
   "outputs": [],
   "source": [
    "#prepare train and test data\n",
    "train_feat = features[0:102]\n",
    "train_labels = labels[0:102]"
   ]
  },
  {
   "cell_type": "code",
   "execution_count": 8,
   "metadata": {
    "colab": {},
    "colab_type": "code",
    "id": "PRo_EaOVwngn"
   },
   "outputs": [],
   "source": [
    "def find_optimal_learner(weights, learner_list, X, y):\n",
    "    error_list = []\n",
    "    for learner in learner_list:\n",
    "        learner.update_weights(weights)\n",
    "        learner.train(X, y)\n",
    "        error_list.append(learner.get_error(X, y))\n",
    "        #print(error_list)\n",
    "    return [min(error_list),error_list.index(min(error_list))]"
   ]
  },
  {
   "cell_type": "code",
   "execution_count": 29,
   "metadata": {
    "colab": {
     "base_uri": "https://localhost:8080/",
     "height": 357
    },
    "colab_type": "code",
    "id": "FmKM1yGdzXZ2",
    "outputId": "ec560df6-a143-406e-ccac-4f335251bd28"
   },
   "outputs": [
    {
     "name": "stdout",
     "output_type": "stream",
     "text": [
      "4.7\n",
      "-10.0\n",
      "-5.8\n",
      "-10.0\n",
      "6.5\n",
      "-10.0\n",
      "5.8\n",
      "-4.7\n",
      "-10.0\n",
      "5.0\n",
      "-6.2\n",
      "-10.0\n",
      "6.4\n",
      "-10.0\n",
      "-5.8\n",
      "-10.0\n",
      "-6.2\n",
      "-10.0\n",
      "6.5\n",
      "-10.0\n",
      "5.8\n",
      "-10.0\n",
      "-6.2\n",
      "-10.0\n",
      "-6.8\n",
      "-10.0\n",
      "6.5\n",
      "-10.0\n",
      "6.4\n",
      "-10.0\n"
     ]
    },
    {
     "data": {
      "image/png": "[encoded data removed]",
      "text/plain": [
       "<Figure size 432x288 with 1 Axes>"
      ]
     },
     "metadata": {
      "needs_background": "light"
     },
     "output_type": "display_data"
    }
   ],
   "source": [
    "N=30 #number of final learners\n",
    "\n",
    "weights = np.ones(train_feat.shape[0])*(1/train_feat.shape[0]) #weight initialization\n",
    "#weak_learner init\n",
    "learner_list = [WeakLearner(weights), WeakLearner(weights, direction='horizontal')]\n",
    "\n",
    "strong_learner_list = []\n",
    "alpha_list = []\n",
    "oldindex = -1\n",
    "for t in range(0,N):\n",
    "    error,index = find_optimal_learner(weights, learner_list, train_feat, train_labels)\n",
    "    #if index == oldindex:\n",
    "    #index = 1-index\n",
    "    #oldindex = index\n",
    "    alpha = 0.5*np.log((1-error)/error)\n",
    "    optimal_learner = learner_list[index]\n",
    "    #optimal_learner.update_weights(weights)\n",
    "    #optimal_learner.train(train_feat, train_labels)\n",
    "    optimal_learner.draw(t)\n",
    "    #optimal_learner.print_coord()\n",
    "    strong_learner_list.append(optimal_learner)\n",
    "    alpha_list.append(alpha)\n",
    "    #print(np.round(alpha,2))\n",
    "    #print(error)\n",
    "    #print(index)\n",
    "    Z = 0\n",
    "    for i in range(0,train_labels.shape[0]):\n",
    "        weights[i] = weights[i]*np.exp(-alpha*train_labels[i]*optimal_learner.evaluate(train_feat[i]))\n",
    "        Z += weights[i]\n",
    "    weights = weights/Z\n",
    "plt.plot(features[0:40,0],features[0:40,1], 'o')\n",
    "plt.plot(features[40:102,0],features[40:102,1], 'o')\n",
    "#plt.legend()\n",
    "plt.savefig('Graph.pdf', format='pdf')"
   ]
  },
  {
   "cell_type": "code",
   "execution_count": 16,
   "metadata": {
    "colab": {},
    "colab_type": "code",
    "id": "AwQ3ZC2A59rC"
   },
   "outputs": [],
   "source": [
    "def accuracy_strong(alpha_list, strong_learner_list, X, y):\n",
    "    error = 0\n",
    "    for j in range(0,y.shape[0]):\n",
    "        sum = 0\n",
    "        for i in range(0,np.array(alpha_list).shape[0]):\n",
    "            sum += alpha_list[i]*strong_learner_list[i].evaluate(X[j])\n",
    "        if np.sign(sum) != y[j]:\n",
    "            error += (1/y.shape[0])\n",
    "    return 1-error"
   ]
  },
  {
   "cell_type": "code",
   "execution_count": 22,
   "metadata": {
    "colab": {
     "base_uri": "https://localhost:8080/",
     "height": 35
    },
    "colab_type": "code",
    "id": "REwFeIfE8N4v",
    "outputId": "3b9e1d13-a0ed-4cf3-8097-7240d664e82a"
   },
   "outputs": [
    {
     "name": "stdout",
     "output_type": "stream",
     "text": [
      "0.6078431372549018\n"
     ]
    }
   ],
   "source": [
    "print(accuracy_strong(alpha_list, strong_learner_list, train_feat, train_labels))"
   ]
  }
 ],
 "metadata": {
  "colab": {
   "collapsed_sections": [],
   "name": "Exercise 5 ML.ipynb",
   "provenance": []
  },
  "kernelspec": {
   "display_name": "Python 3",
   "language": "python",
   "name": "python3"
  },
  "language_info": {
   "codemirror_mode": {
    "name": "ipython",
    "version": 3
   },
   "file_extension": ".py",
   "mimetype": "text/x-python",
   "name": "python",
   "nbconvert_exporter": "python",
   "pygments_lexer": "ipython3",
   "version": "3.7.4"
  }
 },
 "nbformat": 4,
 "nbformat_minor": 1
}
