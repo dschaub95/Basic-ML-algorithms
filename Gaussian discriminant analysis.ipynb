{
 "cells": [
  {
   "cell_type": "code",
   "execution_count": 1,
   "metadata": {},
   "outputs": [],
   "source": [
    "import os\n",
    "import cv2\n",
    "import numpy as np"
   ]
  },
  {
   "cell_type": "code",
   "execution_count": 2,
   "metadata": {},
   "outputs": [],
   "source": [
    "data = []\n",
    "CATEGORIES = [\"negatives\", \"positives\"]\n",
    "\n",
    "for category in CATEGORIES:\n",
    "    path = category\n",
    "    class_num = CATEGORIES.index(category)\n",
    "    for img in os.listdir(path):\n",
    "        img_array = cv2.imread(os.path.join(path,img))\n",
    "        \n",
    "        data.append([img_array, class_num])\n",
    "       "
   ]
  },
  {
   "cell_type": "code",
   "execution_count": 21,
   "metadata": {},
   "outputs": [],
   "source": [
    "list_red_mean = []\n",
    "list_green_mean = []\n",
    "list_blue_mean = []\n",
    "list_red_max = []\n",
    "list_blue_max = []\n",
    "\n",
    "new_data = []\n",
    "for img, num in data:\n",
    "    red_mean = 0\n",
    "    green_mean = 0\n",
    "    blue_mean = 0\n",
    "    red_max = 0\n",
    "    blue_max = 0\n",
    "    green_min = 255\n",
    "    red_min = 255\n",
    "    for line in img:\n",
    "        for pixel in line:\n",
    "            red_mean += pixel[0]*(1/(img.shape[0]*img.shape[1]))\n",
    "            green_mean += pixel[1]*(1/(img.shape[0]*img.shape[1]))\n",
    "            blue_mean += pixel[2]*(1/(img.shape[0]*img.shape[1]))\n",
    "            if pixel[0] > red_max:    \n",
    "                red_max = pixel[0]\n",
    "            if pixel[2] > blue_max:\n",
    "                blue_max = pixel[2]\n",
    "            if pixel[1] < green_min:\n",
    "                green_min = pixel[1]\n",
    "            if pixel[0] < red_min:\n",
    "                red_min = pixel[0]    \n",
    "    list_red_mean.append(red_mean)\n",
    "    list_green_mean.append(green_mean)\n",
    "    list_blue_mean.append(blue_mean)\n",
    "    list_red_max.append(red_max)\n",
    "    list_blue_max.append(blue_max)\n",
    "    new_data.append([green_mean, blue_mean, red_max, blue_max, red_min, green_min, num])\n",
    "    #new_data.append([red_mean, green_mean, blue_mean, red_max, blue_max, red_min, green_min, num])\n",
    "    \n",
    "num_features = len(new_data[0][-2:-len(new_data[0])-1:-1])"
   ]
  },
  {
   "cell_type": "code",
   "execution_count": 22,
   "metadata": {},
   "outputs": [],
   "source": [
    "mü_0 = np.zeros((num_features,1))\n",
    "mü_1 = np.zeros((num_features,1))\n",
    "phi = 0\n",
    "gamma = np.zeros((num_features,num_features))\n",
    "\n",
    "for vec in new_data:\n",
    "    phi += (1/len(new_data))*vec[num_features]\n",
    "    if vec[num_features] == 0:    \n",
    "        mü_0 += (1/30)*np.reshape(vec[0:num_features], (num_features,1))\n",
    "    else:    \n",
    "        mü_1 += (1/30)*np.reshape(vec[0:num_features], (num_features,1))\n",
    "        \n",
    "for vec in new_data:\n",
    "    if vec[num_features] == 0:\n",
    "        gamma += (1/60)*(np.reshape(vec[0:num_features], (num_features,1))-mü_0)@np.transpose(np.reshape(vec[0:num_features], (num_features,1))-mü_0)\n",
    "    else:\n",
    "        gamma += (1/60)*(np.reshape(vec[0:num_features], (num_features,1))-mü_1)@np.transpose(np.reshape(vec[0:num_features], (num_features,1))-mü_1)"
   ]
  },
  {
   "cell_type": "markdown",
   "metadata": {},
   "source": [
    "# Parameters"
   ]
  },
  {
   "cell_type": "code",
   "execution_count": 25,
   "metadata": {
    "scrolled": true
   },
   "outputs": [
    {
     "name": "stdout",
     "output_type": "stream",
     "text": [
      "[[126.82800926]\n",
      " [149.96666667]\n",
      " [187.03333333]\n",
      " [103.4       ]\n",
      " [102.8       ]]\n",
      "[[139.52424769]\n",
      " [165.33333333]\n",
      " [209.03333333]\n",
      " [104.73333333]\n",
      " [ 47.16666667]]\n",
      "[[252.26656152 132.13186535 109.60448785 170.19188465 176.06197242]\n",
      " [132.13186535 125.86055556 102.995       99.61777778  70.63555556]\n",
      " [109.60448785 102.995      121.16555556  67.59777778  48.43388889]\n",
      " [170.19188465  99.61777778  67.59777778 186.98444444 133.87888889]\n",
      " [176.06197242  70.63555556  48.43388889 133.87888889 221.08277778]]\n"
     ]
    }
   ],
   "source": [
    "print(mü_0)\n",
    "print(mü_1)\n",
    "print(gamma)"
   ]
  },
  {
   "cell_type": "code",
   "execution_count": 23,
   "metadata": {},
   "outputs": [],
   "source": [
    "def classify(x, mü_0, mü_1, gamma, phi):\n",
    "    x = np.reshape(x, (len(x),1))\n",
    "    p_x0 = (1/(2*(np.pi**(len(x)/2))*np.linalg.det(gamma)**(1/2)))*np.exp(-(1/2)*(np.transpose(x-mü_0)@np.linalg.inv(gamma))@(x-mü_0))\n",
    "    p_x1 = (1/(2*(np.pi**(len(x)/2))*np.linalg.det(gamma)**(1/2)))*np.exp(-(1/2)*(np.transpose(x-mü_1)@np.linalg.inv(gamma))@(x-mü_1))    \n",
    "    p_0 = (p_x0*(1-phi))/(p_x0*(1-phi)+p_x1*phi)\n",
    "    p_1 = (p_x1*phi)/(p_x0*(1-phi)+p_x1*phi)\n",
    "    if p_0 > p_1:\n",
    "        return 0\n",
    "    else:\n",
    "        return 1"
   ]
  },
  {
   "cell_type": "code",
   "execution_count": 24,
   "metadata": {},
   "outputs": [
    {
     "name": "stdout",
     "output_type": "stream",
     "text": [
      "0\n",
      "0\n",
      "0\n",
      "0\n",
      "0\n",
      "0\n",
      "1\n",
      "0\n",
      "0\n",
      "0\n",
      "0\n",
      "0\n",
      "0\n",
      "0\n",
      "0\n",
      "0\n",
      "0\n",
      "0\n",
      "0\n",
      "0\n",
      "0\n",
      "0\n",
      "0\n",
      "0\n",
      "0\n",
      "0\n",
      "0\n",
      "0\n",
      "0\n",
      "0\n",
      "0\n",
      "0\n",
      "0\n",
      "0\n",
      "0\n",
      "0\n",
      "0\n",
      "0\n",
      "0\n",
      "0\n",
      "0\n",
      "0\n",
      "0\n",
      "0\n",
      "0\n",
      "0\n",
      "0\n",
      "0\n",
      "0\n",
      "0\n",
      "0\n",
      "0\n",
      "0\n",
      "0\n",
      "0\n",
      "0\n",
      "0\n",
      "0\n",
      "0\n",
      "0\n"
     ]
    }
   ],
   "source": [
    "import random\n",
    "k = 0\n",
    "random.shuffle(new_data)\n",
    "for dat in new_data:\n",
    "    k += 1\n",
    "    print(classify(dat[0:num_features], mü_0, mü_1, gamma, phi)-dat[-1])\n",
    "    "
   ]
  },
  {
   "cell_type": "code",
   "execution_count": 116,
   "metadata": {},
   "outputs": [
    {
     "name": "stdout",
     "output_type": "stream",
     "text": [
      "[[127.3]\n",
      " [126.8]\n",
      " [163.7]\n",
      " [150. ]\n",
      " [187. ]\n",
      " [103.4]\n",
      " [102.8]]\n",
      "[[142.9]\n",
      " [139.5]\n",
      " [176.2]\n",
      " [165.3]\n",
      " [209. ]\n",
      " [104.7]\n",
      " [ 47.2]]\n",
      "[[131.  170.5 139.3 111.5  91.5 128.6 113. ]\n",
      " [170.5 252.3 192.7 132.1 109.6 170.2 176.1]\n",
      " [139.3 192.7 172.5 113.7 108.6 129.  118.7]\n",
      " [111.5 132.1 113.7 125.9 103.   99.6  70.6]\n",
      " [ 91.5 109.6 108.6 103.  121.2  67.6  48.4]\n",
      " [128.6 170.2 129.   99.6  67.6 187.  133.9]\n",
      " [113.  176.1 118.7  70.6  48.4 133.9 221.1]]\n"
     ]
    }
   ],
   "source": [
    "print(mü_0.round(1))\n",
    "print(mü_1.round(1))\n",
    "print(gamma.round(1))\n",
    "\n"
   ]
  },
  {
   "cell_type": "code",
   "execution_count": null,
   "metadata": {},
   "outputs": [],
   "source": []
  },
  {
   "cell_type": "code",
   "execution_count": null,
   "metadata": {},
   "outputs": [],
   "source": []
  }
 ],
 "metadata": {
  "kernelspec": {
   "display_name": "Python 3",
   "language": "python",
   "name": "python3"
  },
  "language_info": {
   "codemirror_mode": {
    "name": "ipython",
    "version": 3
   },
   "file_extension": ".py",
   "mimetype": "text/x-python",
   "name": "python",
   "nbconvert_exporter": "python",
   "pygments_lexer": "ipython3",
   "version": "3.7.4"
  }
 },
 "nbformat": 4,
 "nbformat_minor": 2
}
