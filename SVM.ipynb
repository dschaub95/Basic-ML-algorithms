{
 "cells": [
  {
   "cell_type": "code",
   "execution_count": 3,
   "metadata": {},
   "outputs": [],
   "source": [
    "import os\n",
    "import cv2\n",
    "import numpy as np"
   ]
  },
  {
   "cell_type": "code",
   "execution_count": 4,
   "metadata": {},
   "outputs": [],
   "source": [
    "data = []\n",
    "CATEGORIES = [\"negatives\", \"positives\"]\n",
    "\n",
    "for category in CATEGORIES:\n",
    "    path = category\n",
    "    class_num = CATEGORIES.index(category)\n",
    "    for img in os.listdir(path):\n",
    "        img_array = cv2.imread(os.path.join(path,img))\n",
    "        \n",
    "        data.append([img_array, class_num])\n",
    "       "
   ]
  },
  {
   "cell_type": "code",
   "execution_count": 5,
   "metadata": {},
   "outputs": [],
   "source": [
    "list_red_mean = []\n",
    "list_green_mean = []\n",
    "list_blue_mean = []\n",
    "list_red_max = []\n",
    "list_blue_max = []\n",
    "\n",
    "new_data = []\n",
    "for img, num in data:\n",
    "    red_mean = 0\n",
    "    green_mean = 0\n",
    "    blue_mean = 0\n",
    "    red_max = 0\n",
    "    blue_max = 0\n",
    "    green_min = 255\n",
    "    red_min = 255\n",
    "    for line in img:\n",
    "        for pixel in line:\n",
    "            red_mean += pixel[0]*(1/(img.shape[0]*img.shape[1]))\n",
    "            green_mean += pixel[1]*(1/(img.shape[0]*img.shape[1]))\n",
    "            blue_mean += pixel[2]*(1/(img.shape[0]*img.shape[1]))\n",
    "            if pixel[0] > red_max:    \n",
    "                red_max = pixel[0]\n",
    "            if pixel[2] > blue_max:\n",
    "                blue_max = pixel[2]\n",
    "            if pixel[1] < green_min:\n",
    "                green_min = pixel[1]\n",
    "            if pixel[0] < red_min:\n",
    "                red_min = pixel[0]    \n",
    "    list_red_mean.append(red_mean)\n",
    "    list_green_mean.append(green_mean)\n",
    "    list_blue_mean.append(blue_mean)\n",
    "    list_red_max.append(red_max)\n",
    "    list_blue_max.append(blue_max)\n",
    "    new_data.append([green_mean, blue_mean, red_max, blue_max, red_min, green_min, num])\n",
    "    #new_data.append([red_mean, green_mean, blue_mean, red_max, blue_max, red_min, green_min, num])\n",
    "    \n",
    "num_features = len(new_data[0][-2:-len(new_data[0])-1:-1])"
   ]
  },
  {
   "cell_type": "code",
   "execution_count": 6,
   "metadata": {},
   "outputs": [],
   "source": [
    "mü_0 = np.zeros((num_features,1))\n",
    "mü_1 = np.zeros((num_features,1))\n",
    "phi = 0\n",
    "gamma = np.zeros((num_features,num_features))\n",
    "\n",
    "for vec in new_data:\n",
    "    phi += (1/len(new_data))*vec[num_features]\n",
    "    if vec[num_features] == 0:    \n",
    "        mü_0 += (1/30)*np.reshape(vec[0:num_features], (num_features,1))\n",
    "    else:    \n",
    "        mü_1 += (1/30)*np.reshape(vec[0:num_features], (num_features,1))\n",
    "        \n",
    "for vec in new_data:\n",
    "    if vec[num_features] == 0:\n",
    "        gamma += (1/60)*(np.reshape(vec[0:num_features], (num_features,1))-mü_0)@np.transpose(np.reshape(vec[0:num_features], (num_features,1))-mü_0)\n",
    "    else:\n",
    "        gamma += (1/60)*(np.reshape(vec[0:num_features], (num_features,1))-mü_1)@np.transpose(np.reshape(vec[0:num_features], (num_features,1))-mü_1)"
   ]
  },
  {
   "cell_type": "markdown",
   "metadata": {},
   "source": [
    "# Parameters"
   ]
  },
  {
   "cell_type": "code",
   "execution_count": 7,
   "metadata": {
    "scrolled": true
   },
   "outputs": [
    {
     "name": "stdout",
     "output_type": "stream",
     "text": [
      "[[126.82800926]\n",
      " [163.71302083]\n",
      " [149.96666667]\n",
      " [187.03333333]\n",
      " [103.4       ]\n",
      " [102.8       ]]\n",
      "[[139.52424769]\n",
      " [176.17256944]\n",
      " [165.33333333]\n",
      " [209.03333333]\n",
      " [104.73333333]\n",
      " [ 47.16666667]]\n",
      "[[252.26656152 192.66638956 132.13186535 109.60448785 170.19188465\n",
      "  176.06197242]\n",
      " [192.66638956 172.54299836 113.70731192 108.64623553 129.04273148\n",
      "  118.72046296]\n",
      " [132.13186535 113.70731192 125.86055556 102.995       99.61777778\n",
      "   70.63555556]\n",
      " [109.60448785 108.64623553 102.995      121.16555556  67.59777778\n",
      "   48.43388889]\n",
      " [170.19188465 129.04273148  99.61777778  67.59777778 186.98444444\n",
      "  133.87888889]\n",
      " [176.06197242 118.72046296  70.63555556  48.43388889 133.87888889\n",
      "  221.08277778]]\n"
     ]
    }
   ],
   "source": [
    "print(mü_0)\n",
    "print(mü_1)\n",
    "print(gamma)"
   ]
  },
  {
   "cell_type": "code",
   "execution_count": 8,
   "metadata": {},
   "outputs": [],
   "source": [
    "def classify(x, mü_0, mü_1, gamma, phi):\n",
    "    x = np.reshape(x, (len(x),1))\n",
    "    p_x0 = (1/(2*(np.pi**(len(x)/2))*np.linalg.det(gamma)**(1/2)))*np.exp(-(1/2)*(np.transpose(x-mü_0)@np.linalg.inv(gamma))@(x-mü_0))\n",
    "    p_x1 = (1/(2*(np.pi**(len(x)/2))*np.linalg.det(gamma)**(1/2)))*np.exp(-(1/2)*(np.transpose(x-mü_1)@np.linalg.inv(gamma))@(x-mü_1))    \n",
    "    p_0 = (p_x0*(1-phi))/(p_x0*(1-phi)+p_x1*phi)\n",
    "    p_1 = (p_x1*phi)/(p_x0*(1-phi)+p_x1*phi)\n",
    "    if p_0 > p_1:\n",
    "        return 0\n",
    "    else:\n",
    "        return 1"
   ]
  },
  {
   "cell_type": "code",
   "execution_count": 9,
   "metadata": {},
   "outputs": [
    {
     "name": "stdout",
     "output_type": "stream",
     "text": [
      "0\n",
      "0\n",
      "0\n",
      "0\n",
      "0\n",
      "0\n",
      "0\n",
      "0\n",
      "0\n",
      "0\n",
      "0\n",
      "0\n",
      "0\n",
      "0\n",
      "0\n",
      "0\n",
      "0\n",
      "0\n",
      "0\n",
      "0\n",
      "0\n",
      "0\n",
      "0\n",
      "0\n",
      "0\n",
      "0\n",
      "0\n",
      "0\n",
      "0\n",
      "0\n",
      "0\n",
      "0\n",
      "0\n",
      "0\n",
      "0\n",
      "0\n",
      "0\n",
      "0\n",
      "0\n",
      "0\n",
      "0\n",
      "0\n",
      "0\n",
      "0\n",
      "0\n",
      "0\n",
      "0\n",
      "0\n",
      "0\n",
      "0\n",
      "0\n",
      "0\n",
      "0\n",
      "0\n",
      "0\n",
      "0\n",
      "0\n",
      "0\n",
      "0\n",
      "0\n"
     ]
    }
   ],
   "source": [
    "import random\n",
    "k = 0\n",
    "random.shuffle(new_data)\n",
    "for dat in new_data:\n",
    "    k += 1\n",
    "    print(classify(dat[0:num_features], mü_0, mü_1, gamma, phi)-dat[-1])\n",
    "    "
   ]
  },
  {
   "cell_type": "code",
   "execution_count": 51,
   "metadata": {},
   "outputs": [
    {
     "data": {
      "text/plain": [
       "SVC(C=1, cache_size=200, class_weight=None, coef0=0,\n",
       "    decision_function_shape='ovr', degree=1, gamma=0.01, kernel='rbf',\n",
       "    max_iter=-1, probability=False, random_state=None, shrinking=True,\n",
       "    tol=0.001, verbose=False)"
      ]
     },
     "execution_count": 51,
     "metadata": {},
     "output_type": "execute_result"
    }
   ],
   "source": [
    "from sklearn import svm\n",
    "\n",
    "X = np.array(new_data)[:, 0:num_features]\n",
    "y = np.array(new_data)[:, -1:-2:-1]\n",
    "y = np.reshape(y, (y.shape[0],))\n",
    "\n",
    "model = svm.SVC(C=1, kernel='rbf', degree=1, gamma=0.01, coef0=0)\n",
    "model.fit(X, y)"
   ]
  },
  {
   "cell_type": "code",
   "execution_count": 52,
   "metadata": {},
   "outputs": [
    {
     "name": "stdout",
     "output_type": "stream",
     "text": [
      "0.0\n"
     ]
    }
   ],
   "source": [
    "prediction = model.predict(X)\n",
    "loss = 0\n",
    "for i in range(0,y.shape[0]):\n",
    "    loss += (y[i]-prediction[i])**2\n",
    "print(loss)"
   ]
  },
  {
   "cell_type": "code",
   "execution_count": 78,
   "metadata": {},
   "outputs": [
    {
     "name": "stdout",
     "output_type": "stream",
     "text": [
      "[0.01 0.11 0.21 0.31 0.41 0.51 0.61 0.71 0.81 0.91 1.01 1.11 1.21 1.31\n",
      " 1.41 1.51 1.61 1.71 1.81 1.91 2.01 2.11 2.21 2.31 2.41 2.51 2.61 2.71\n",
      " 2.81 2.91 3.01 3.11 3.21 3.31 3.41 3.51 3.61 3.71 3.81 3.91 4.01 4.11\n",
      " 4.21 4.31 4.41 4.51 4.61 4.71 4.81 4.91 5.01 5.11 5.21 5.31 5.41 5.51\n",
      " 5.61 5.71 5.81 5.91 6.01 6.11 6.21 6.31 6.41 6.51 6.61 6.71 6.81 6.91\n",
      " 7.01 7.11 7.21 7.31 7.41 7.51 7.61 7.71 7.81 7.91 8.01 8.11 8.21 8.31\n",
      " 8.41 8.51 8.61 8.71 8.81 8.91 9.01 9.11 9.21 9.31 9.41 9.51 9.61 9.71\n",
      " 9.81 9.91]\n"
     ]
    }
   ],
   "source": [
    "import matplotlib.pyplot as plt\n",
    "C_ = np.arange(0.01,10,0.1)\n",
    "gamma = np.arange(0.01,10,0.1)\n",
    "data_grid = []\n",
    "print(gamma)\n",
    "for c in C_:\n",
    "    for g in gamma:\n",
    "        model = svm.SVC(C=c, kernel='sigmoid', degree=2, gamma=g, coef0=0)\n",
    "        model.fit(X, y)\n",
    "        prediction = model.predict(X)\n",
    "        loss = 0\n",
    "        for i in range(0,y.shape[0]):\n",
    "            loss += (y[i]-prediction[i])**2\n",
    "        data_grid.append([c, g, loss])"
   ]
  },
  {
   "cell_type": "code",
   "execution_count": 79,
   "metadata": {},
   "outputs": [
    {
     "name": "stdout",
     "output_type": "stream",
     "text": [
      "[[30. 30. 30. ... 30. 30. 30.]\n",
      " [30. 30. 30. ... 30. 30. 30.]\n",
      " [30. 30. 30. ... 30. 30. 30.]\n",
      " ...\n",
      " [30. 30. 30. ... 30. 30. 30.]\n",
      " [30. 30. 30. ... 30. 30. 30.]\n",
      " [30. 30. 30. ... 30. 30. 30.]]\n"
     ]
    }
   ],
   "source": [
    "data_grid = np.reshape(data_grid, (C_.shape[0], C_.shape[0], 3))\n",
    "z = data_grid[:,:,2]\n",
    "print(z)"
   ]
  },
  {
   "cell_type": "code",
   "execution_count": 80,
   "metadata": {},
   "outputs": [
    {
     "data": {
      "image/png": "[encoded data removed]",
      "text/plain": [
       "<Figure size 432x288 with 1 Axes>"
      ]
     },
     "metadata": {
      "needs_background": "light"
     },
     "output_type": "display_data"
    }
   ],
   "source": [
    "from mpl_toolkits.mplot3d import Axes3D\n",
    "import matplotlib.pyplot as plt\n",
    "from matplotlib import cm\n",
    "from matplotlib.ticker import LinearLocator, FormatStrFormatter\n",
    "import numpy as np\n",
    "x = data_grid[:,:,0]\n",
    "k = data_grid[:,:,1]\n",
    "h = data_grid[:,:,2]\n",
    "\n",
    "fig = plt.figure()\n",
    "ax = fig.gca(projection='3d')\n",
    "\n",
    "surf = ax.plot_surface(x, k, h, cmap=cm.coolwarm,\n",
    "                       linewidth=0, antialiased=False)\n",
    "plt.show()"
   ]
  },
  {
   "cell_type": "code",
   "execution_count": 92,
   "metadata": {},
   "outputs": [
    {
     "name": "stdout",
     "output_type": "stream",
     "text": [
      "0.0\n",
      "[[137.13888889 169.24305556 165.         195.          96.\n",
      "   94.        ]\n",
      " [115.03125    164.32638889 161.         193.         113.\n",
      "   56.        ]\n",
      " [149.35069444 183.96354167 171.         210.         127.\n",
      "   62.        ]\n",
      " [108.13020833 140.53993056 155.         197.          81.\n",
      "   48.        ]\n",
      " [138.69444444 164.48090278 158.         190.         108.\n",
      "   53.        ]]\n",
      "[2 3]\n"
     ]
    }
   ],
   "source": [
    "model = svm.SVC(C=1, kernel='linear', degree=4, gamma=1, coef0=0)\n",
    "model.fit(X, y)\n",
    "prediction = model.predict(X)\n",
    "loss = 0\n",
    "for i in range(0,y.shape[0]):\n",
    "    loss += (y[i]-prediction[i])**2\n",
    "print(loss)\n",
    "print(model.support_vectors_)\n",
    "print(model.n_support_)"
   ]
  }
 ],
 "metadata": {
  "kernelspec": {
   "display_name": "Python 3",
   "language": "python",
   "name": "python3"
  },
  "language_info": {
   "codemirror_mode": {
    "name": "ipython",
    "version": 3
   },
   "file_extension": ".py",
   "mimetype": "text/x-python",
   "name": "python",
   "nbconvert_exporter": "python",
   "pygments_lexer": "ipython3",
   "version": "3.7.4"
  }
 },
 "nbformat": 4,
 "nbformat_minor": 2
}
